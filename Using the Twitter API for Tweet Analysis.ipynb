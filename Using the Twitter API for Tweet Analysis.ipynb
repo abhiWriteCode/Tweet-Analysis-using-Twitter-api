{
 "cells": [
  {
   "cell_type": "markdown",
   "metadata": {},
   "source": [
    "# Twitter data"
   ]
  },
  {
   "cell_type": "markdown",
   "metadata": {},
   "source": [
    "# Twitter API Access\n",
    "\n",
    "To make requests to Twitter's API, you'll need to go to https://dev.twitter.com/apps and create a sample application.\n",
    "\n",
    "\n",
    "Under **Key and Access Tokens**, there are four primary identifiers you'll need to note for an OAuth 1.0A workflow: \n",
    "* consumer key, \n",
    "* consumer secret, \n",
    "* access token, and \n",
    "* access token secret (Click on Create Access Token to create those)."
   ]
  },
  {
   "cell_type": "markdown",
   "metadata": {},
   "source": [
    "Add all credentials so that you can save them in the `pkl` file, then you can remove the secret keys from the notebook because they will just be loaded from the `pkl` file.\n",
    "\n",
    "The `pkl` file contains sensitive information that can be used to take control of your twitter acccount, **do not share it**."
   ]
  },
  {
   "cell_type": "code",
   "execution_count": 1,
   "metadata": {},
   "outputs": [],
   "source": [
    "import pickle\n",
    "import os"
   ]
  },
  {
   "cell_type": "code",
   "execution_count": 2,
   "metadata": {},
   "outputs": [],
   "source": [
    "if not os.path.exists('secret_twitter_credentials.pkl'):\n",
    "    Twitter={}\n",
    "    Twitter['Consumer Key'] = ''\n",
    "    Twitter['Consumer Secret'] = ''\n",
    "    Twitter['Access Token'] = ''\n",
    "    Twitter['Access Token Secret'] = ''\n",
    "    with open('secret_twitter_credentials.pkl','wb') as f:\n",
    "        pickle.dump(Twitter, f)\n",
    "else:\n",
    "    Twitter=pickle.load(open('secret_twitter_credentials.pkl','rb'))"
   ]
  },
  {
   "cell_type": "markdown",
   "metadata": {},
   "source": [
    "Install the `twitter` package to interface with the Twitter API"
   ]
  },
  {
   "cell_type": "markdown",
   "metadata": {},
   "source": [
    "```python\n",
    "pip install twitter```"
   ]
  },
  {
   "cell_type": "markdown",
   "metadata": {},
   "source": [
    "## 1. Authorizing an application to access Twitter account data"
   ]
  },
  {
   "cell_type": "code",
   "execution_count": 3,
   "metadata": {},
   "outputs": [
    {
     "name": "stdout",
     "output_type": "stream",
     "text": [
      "<twitter.api.Twitter object at 0x0000028A66E7F978>\n"
     ]
    }
   ],
   "source": [
    "import twitter\n",
    "\n",
    "auth = twitter.oauth.OAuth(Twitter['Access Token'],\n",
    "                           Twitter['Access Token Secret'],\n",
    "                           Twitter['Consumer Key'],\n",
    "                           Twitter['Consumer Secret'])\n",
    "\n",
    "twitter_api = twitter.Twitter(auth=auth)\n",
    "\n",
    "# Nothing to see by displaying twitter_api except that it's now a\n",
    "# defined variable\n",
    "\n",
    "print(twitter_api)"
   ]
  },
  {
   "cell_type": "markdown",
   "metadata": {},
   "source": [
    "## 2. Retrieving trends"
   ]
  },
  {
   "cell_type": "markdown",
   "metadata": {},
   "source": [
    "Twitter identifies locations using the Yahoo! Where On Earth ID"
   ]
  },
  {
   "cell_type": "code",
   "execution_count": 4,
   "metadata": {},
   "outputs": [],
   "source": [
    "WORLD_WOE_ID = 1\n",
    "IN_WOE_ID = 23424848\n",
    "LOCAL_WOE_ID = 2295386 # for my city"
   ]
  },
  {
   "cell_type": "markdown",
   "metadata": {},
   "source": [
    "Look for the WOEID for [kolkata](http://woeid.rosselliot.co.nz/lookup/kolkata)\n",
    "\n",
    "You can change it to another location."
   ]
  },
  {
   "cell_type": "code",
   "execution_count": 5,
   "metadata": {},
   "outputs": [],
   "source": [
    "# Prefix ID with the underscore for query string parameterization.\n",
    "# Without the underscore, the twitter package appends the ID value\n",
    "# to the URL itself as a special case keyword argument.\n",
    "\n",
    "world_trends = twitter_api.trends.place(_id=WORLD_WOE_ID) # return top 50 trends\n",
    "in_trends = twitter_api.trends.place(_id=IN_WOE_ID)\n",
    "local_trends = twitter_api.trends.place(_id=LOCAL_WOE_ID)"
   ]
  },
  {
   "cell_type": "code",
   "execution_count": 7,
   "metadata": {},
   "outputs": [],
   "source": [
    "# world_trends[:2]"
   ]
  },
  {
   "cell_type": "code",
   "execution_count": 8,
   "metadata": {},
   "outputs": [
    {
     "name": "stdout",
     "output_type": "stream",
     "text": [
      "<class 'twitter.api.TwitterListResponse'>\n",
      "\n",
      "\n",
      "\n",
      "['trends', 'as_of', 'created_at', 'locations']\n",
      "\n",
      "\n",
      "\n",
      "[{'name': '#RadhaKrishn', 'url': 'http://twitter.com/search?q=%23RadhaKrishn', 'promoted_content': None, 'query': '%23RadhaKrishn', 'tweet_volume': None}, {'name': 'Gita Gopinath', 'url': 'http://twitter.com/search?q=%22Gita+Gopinath%22', 'promoted_content': None, 'query': '%22Gita+Gopinath%22', 'tweet_volume': None}, {'name': '#AusOpenInIndia', 'url': 'http://twitter.com/search?q=%23AusOpenInIndia', 'promoted_content': None, 'query': '%23AusOpenInIndia', 'tweet_volume': None}, {'name': '#SarkarTracklist', 'url': 'http://twitter.com/search?q=%23SarkarTracklist', 'promoted_content': None, 'query': '%23SarkarTracklist', 'tweet_volume': 47579}, {'name': '#KORvIND', 'url': 'http://twitter.com/search?q=%23KORvIND', 'promoted_content': None, 'query': '%23KORvIND', 'tweet_volume': None}, {'name': '#NEUGOA', 'url': 'http://twitter.com/search?q=%23NEUGOA', 'promoted_content': None, 'query': '%23NEUGOA', 'tweet_volume': None}, {'name': 'Central Information Commission', 'url': 'http://twitter.com/search?q=%22Central+Information+Commission%22', 'promoted_content': None, 'query': '%22Central+Information+Commission%22', 'tweet_volume': None}, {'name': 'Nobel Prize', 'url': 'http://twitter.com/search?q=%22Nobel+Prize%22', 'promoted_content': None, 'query': '%22Nobel+Prize%22', 'tweet_volume': 30552}, {'name': 'Gautam Navlakha', 'url': 'http://twitter.com/search?q=%22Gautam+Navlakha%22', 'promoted_content': None, 'query': '%22Gautam+Navlakha%22', 'tweet_volume': None}, {'name': 'Maury Obstfeld', 'url': 'http://twitter.com/search?q=%22Maury+Obstfeld%22', 'promoted_content': None, 'query': '%22Maury+Obstfeld%22', 'tweet_volume': None}, {'name': 'Tata Sky', 'url': 'http://twitter.com/search?q=%22Tata+Sky%22', 'promoted_content': None, 'query': '%22Tata+Sky%22', 'tweet_volume': None}, {'name': 'Sharad Pawar', 'url': 'http://twitter.com/search?q=%22Sharad+Pawar%22', 'promoted_content': None, 'query': '%22Sharad+Pawar%22', 'tweet_volume': None}, {'name': 'Andaman Islands', 'url': 'http://twitter.com/search?q=%22Andaman+Islands%22', 'promoted_content': None, 'query': '%22Andaman+Islands%22', 'tweet_volume': None}, {'name': 'Arun Jaitley', 'url': 'http://twitter.com/search?q=%22Arun+Jaitley%22', 'promoted_content': None, 'query': '%22Arun+Jaitley%22', 'tweet_volume': None}, {'name': 'Uday Kotak', 'url': 'http://twitter.com/search?q=%22Uday+Kotak%22', 'promoted_content': None, 'query': '%22Uday+Kotak%22', 'tweet_volume': None}, {'name': 'Dipika', 'url': 'http://twitter.com/search?q=Dipika', 'promoted_content': None, 'query': 'Dipika', 'tweet_volume': None}, {'name': 'jean-claude arnault', 'url': 'http://twitter.com/search?q=%22jean-claude+arnault%22', 'promoted_content': None, 'query': '%22jean-claude+arnault%22', 'tweet_volume': None}, {'name': 'motherhood saved baby', 'url': 'http://twitter.com/search?q=%22motherhood+saved+baby%22', 'promoted_content': None, 'query': '%22motherhood+saved+baby%22', 'tweet_volume': None}, {'name': '#ShortcutOctober', 'url': 'http://twitter.com/search?q=%23ShortcutOctober', 'promoted_content': None, 'query': '%23ShortcutOctober', 'tweet_volume': None}, {'name': '#BeVegetarianSaysStMSG', 'url': 'http://twitter.com/search?q=%23BeVegetarianSaysStMSG', 'promoted_content': None, 'query': '%23BeVegetarianSaysStMSG', 'tweet_volume': 31157}, {'name': '#Monster', 'url': 'http://twitter.com/search?q=%23Monster', 'promoted_content': None, 'query': '%23Monster', 'tweet_volume': None}, {'name': '#NETfromOct12th', 'url': 'http://twitter.com/search?q=%23NETfromOct12th', 'promoted_content': None, 'query': '%23NETfromOct12th', 'tweet_volume': None}, {'name': '#DipakMisra', 'url': 'http://twitter.com/search?q=%23DipakMisra', 'promoted_content': None, 'query': '%23DipakMisra', 'tweet_volume': None}, {'name': '#शराफत_गई_तेल_लेने', 'url': 'http://twitter.com/search?q=%23%E0%A4%B6%E0%A4%B0%E0%A4%BE%E0%A4%AB%E0%A4%A4_%E0%A4%97%E0%A4%88_%E0%A4%A4%E0%A5%87%E0%A4%B2_%E0%A4%B2%E0%A5%87%E0%A4%A8%E0%A5%87', 'promoted_content': None, 'query': '%23%E0%A4%B6%E0%A4%B0%E0%A4%BE%E0%A4%AB%E0%A4%A4_%E0%A4%97%E0%A4%88_%E0%A4%A4%E0%A5%87%E0%A4%B2_%E0%A4%B2%E0%A5%87%E0%A4%A8%E0%A5%87', 'tweet_volume': None}, {'name': '#MegaIcons', 'url': 'http://twitter.com/search?q=%23MegaIcons', 'promoted_content': None, 'query': '%23MegaIcons', 'tweet_volume': None}, {'name': '#NavigateToNevada', 'url': 'http://twitter.com/search?q=%23NavigateToNevada', 'promoted_content': None, 'query': '%23NavigateToNevada', 'tweet_volume': None}, {'name': '#TheVillain', 'url': 'http://twitter.com/search?q=%23TheVillain', 'promoted_content': None, 'query': '%23TheVillain', 'tweet_volume': None}, {'name': '#100PercentKadhal', 'url': 'http://twitter.com/search?q=%23100PercentKadhal', 'promoted_content': None, 'query': '%23100PercentKadhal', 'tweet_volume': None}, {'name': '#Andaman', 'url': 'http://twitter.com/search?q=%23Andaman', 'promoted_content': None, 'query': '%23Andaman', 'tweet_volume': None}, {'name': '#PChidambaram', 'url': 'http://twitter.com/search?q=%23PChidambaram', 'promoted_content': None, 'query': '%23PChidambaram', 'tweet_volume': None}, {'name': '#Peniviti', 'url': 'http://twitter.com/search?q=%23Peniviti', 'promoted_content': None, 'query': '%23Peniviti', 'tweet_volume': None}, {'name': '#GandhiAt150', 'url': 'http://twitter.com/search?q=%23GandhiAt150', 'promoted_content': None, 'query': '%23GandhiAt150', 'tweet_volume': None}, {'name': '#KrishnaRajKapoor', 'url': 'http://twitter.com/search?q=%23KrishnaRajKapoor', 'promoted_content': None, 'query': '%23KrishnaRajKapoor', 'tweet_volume': 13421}, {'name': '#MondayMotivation', 'url': 'http://twitter.com/search?q=%23MondayMotivation', 'promoted_content': None, 'query': '%23MondayMotivation', 'tweet_volume': 192844}, {'name': '#RamNathKovind', 'url': 'http://twitter.com/search?q=%23RamNathKovind', 'promoted_content': None, 'query': '%23RamNathKovind', 'tweet_volume': 17645}, {'name': '#VivekTiwari', 'url': 'http://twitter.com/search?q=%23VivekTiwari', 'promoted_content': None, 'query': '%23VivekTiwari', 'tweet_volume': 35679}, {'name': '#RajKapoor', 'url': 'http://twitter.com/search?q=%23RajKapoor', 'promoted_content': None, 'query': '%23RajKapoor', 'tweet_volume': None}, {'name': '#96TheMovie', 'url': 'http://twitter.com/search?q=%2396TheMovie', 'promoted_content': None, 'query': '%2396TheMovie', 'tweet_volume': 10097}, {'name': '#KaatrinMozhi', 'url': 'http://twitter.com/search?q=%23KaatrinMozhi', 'promoted_content': None, 'query': '%23KaatrinMozhi', 'tweet_volume': None}, {'name': '#SarkarKondattam', 'url': 'http://twitter.com/search?q=%23SarkarKondattam', 'promoted_content': None, 'query': '%23SarkarKondattam', 'tweet_volume': 53140}, {'name': '#NiravModi', 'url': 'http://twitter.com/search?q=%23NiravModi', 'promoted_content': None, 'query': '%23NiravModi', 'tweet_volume': None}, {'name': '#SivajiGanesan', 'url': 'http://twitter.com/search?q=%23SivajiGanesan', 'promoted_content': None, 'query': '%23SivajiGanesan', 'tweet_volume': None}, {'name': '#4DaysToGoForRatsasan', 'url': 'http://twitter.com/search?q=%234DaysToGoForRatsasan', 'promoted_content': None, 'query': '%234DaysToGoForRatsasan', 'tweet_volume': None}, {'name': '#NotaOnFriday', 'url': 'http://twitter.com/search?q=%23NotaOnFriday', 'promoted_content': None, 'query': '%23NotaOnFriday', 'tweet_volume': None}, {'name': '#SavyasachiTeaser', 'url': 'http://twitter.com/search?q=%23SavyasachiTeaser', 'promoted_content': None, 'query': '%23SavyasachiTeaser', 'tweet_volume': 12310}, {'name': '#Sensex', 'url': 'http://twitter.com/search?q=%23Sensex', 'promoted_content': None, 'query': '%23Sensex', 'tweet_volume': None}, {'name': '#benche', 'url': 'http://twitter.com/search?q=%23benche', 'promoted_content': None, 'query': '%23benche', 'tweet_volume': None}, {'name': '#TanushreeDutta', 'url': 'http://twitter.com/search?q=%23TanushreeDutta', 'promoted_content': None, 'query': '%23TanushreeDutta', 'tweet_volume': 12651}]\n"
     ]
    }
   ],
   "source": [
    "trends=local_trends\n",
    "print(type(trends))\n",
    "print('\\n\\n')\n",
    "\n",
    "print(list(trends[0].keys()))\n",
    "print('\\n\\n')\n",
    "\n",
    "print(trends[0]['trends'])"
   ]
  },
  {
   "cell_type": "markdown",
   "metadata": {},
   "source": [
    "## 3. Displaying API responses as pretty-printed JSON"
   ]
  },
  {
   "cell_type": "code",
   "execution_count": 10,
   "metadata": {},
   "outputs": [],
   "source": [
    "import json\n",
    "\n",
    "# print((json.dumps(in_trends[:2], indent=1)))"
   ]
  },
  {
   "cell_type": "markdown",
   "metadata": {},
   "source": [
    "## 4. Computing the intersection of two sets of trends"
   ]
  },
  {
   "cell_type": "code",
   "execution_count": 11,
   "metadata": {},
   "outputs": [],
   "source": [
    "trends_set = {}\n",
    "trends_set['world'] = set([trend['name'] for trend in world_trends[0]['trends']])\n",
    "\n",
    "trends_set['in'] = set([trend['name'] for trend in in_trends[0]['trends']])\n",
    "\n",
    "trends_set['kol'] = set([trend['name'] for trend in local_trends[0]['trends']])"
   ]
  },
  {
   "cell_type": "code",
   "execution_count": 12,
   "metadata": {},
   "outputs": [
    {
     "name": "stdout",
     "output_type": "stream",
     "text": [
      "('----------', 'world')\n",
      "#FelizLunes,#姫適性,#حازم_امام,Nilgün Bodur,#BuenLunes,#LaHaya,#MeuRacistaSecreto,#ورينا_تصويرك_بالجوال,#DelikanlıŞanlıYiğit,Heraldo Muñoz,#NCAAInclusion,#MICHELINSTAR19,Sam Gagner,Mastodon,#افضل_عطر_جربته,#USMCA,#ARMYSelcaDay,#AWNewYork,#TheProtector,#inktober,#OTDirecto1OCT,Charles Aznavour,#メガネの日,#GHVIP1O,Connor Carrick,#قريبا_ستمطر,#KceePsycho,#DosisMínima,Carlos Ezquerra,Cuauhtémoc Blanco,#JuventudAClases,#October1st,#あなたのIDの読み方を教えてください,#EXOComingSoon,#حريق_شمال_الرياض,有働さん,#جامعه_الامام,#AptCodingChallenge,#VegasStrong,#NASA60th,#BreastCancerAwarenessMonth,#Game163,#fsradiobrasil,#OutubroRosa,#DíaInternacionalDelCafé,#مهرجان_STC_للاجهزه,#DíaDelPeriodista,Shea Weber,#DünyaÇocukGünü,#MondayMotivaton\n",
      "('----------', 'in')\n",
      "#Monster,#Sensex,#BeVegetarianSaysStMSG,#NotaOnFriday,#AusOpenInIndia,#SarkarTracklist,#100PercentKadhal,#NETfromOct12th,Dipika,#Peniviti,#KORvIND,#4DaysToGoForRatsasan,Central Information Commission,#SarkarKondattam,Tata Sky,#MegaIcons,#GandhiAt150,#VivekTiwari,#NiravModi,Nobel Prize,Uday Kotak,#KrishnaRajKapoor,motherhood saved baby,#TanushreeDutta,#96TheMovie,#SavyasachiTeaser,#benche,#RamNathKovind,#MondayMotivation,#KanganaRanaut,#RajKapoor,Gita Gopinath,Andaman Islands,#NavigateToNevada,#SivajiGanesan,#शराफत_गई_तेल_लेने,Gautam Navlakha,arun jaitley,Sharad Pawar,#NEUGOA,#KaatrinMozhi,jean-claude arnault,#ShortcutOctober,#TheVillain,#RadhaKrishn,Maury Obstfeld,#DipakMisra,#Andaman,#PChidambaram\n",
      "('----------', 'kol')\n",
      "#Monster,#Sensex,#Andaman,#BeVegetarianSaysStMSG,#NotaOnFriday,#AusOpenInIndia,#SarkarTracklist,#100PercentKadhal,#NETfromOct12th,Dipika,#Peniviti,#KORvIND,#4DaysToGoForRatsasan,Central Information Commission,#SarkarKondattam,Tata Sky,#MegaIcons,#GandhiAt150,#VivekTiwari,#NiravModi,Nobel Prize,Uday Kotak,#KrishnaRajKapoor,motherhood saved baby,#TanushreeDutta,#96TheMovie,#SavyasachiTeaser,#benche,#RamNathKovind,#MondayMotivation,#RajKapoor,Gita Gopinath,Andaman Islands,#NavigateToNevada,#SivajiGanesan,#शराफत_गई_तेल_लेने,Gautam Navlakha,Sharad Pawar,#KaatrinMozhi,#NEUGOA,jean-claude arnault,#ShortcutOctober,#TheVillain,#RadhaKrishn,Maury Obstfeld,#DipakMisra,Arun Jaitley,#PChidambaram\n"
     ]
    }
   ],
   "source": [
    "for loc in ['world','in','kol']:\n",
    "    print(('-'*10,loc))\n",
    "    print((','.join(trends_set[loc])))"
   ]
  },
  {
   "cell_type": "code",
   "execution_count": 13,
   "metadata": {},
   "outputs": [
    {
     "name": "stdout",
     "output_type": "stream",
     "text": [
      "('==========', 'intersection of world and us')\n",
      "set()\n",
      "('==========', 'intersection of us and san-diego')\n",
      "{'#Sensex', '#Monster', '#BeVegetarianSaysStMSG', '#NotaOnFriday', '#AusOpenInIndia', '#SarkarTracklist', '#100PercentKadhal', '#NETfromOct12th', 'Dipika', '#Peniviti', '#KORvIND', '#4DaysToGoForRatsasan', 'Central Information Commission', '#SarkarKondattam', 'Tata Sky', '#MegaIcons', '#GandhiAt150', '#VivekTiwari', '#NiravModi', 'Nobel Prize', 'Uday Kotak', '#KrishnaRajKapoor', 'motherhood saved baby', '#TanushreeDutta', '#96TheMovie', '#SavyasachiTeaser', '#benche', '#RamNathKovind', '#MondayMotivation', '#RajKapoor', 'Gita Gopinath', 'Andaman Islands', '#NavigateToNevada', '#SivajiGanesan', '#शराफत_गई_तेल_लेने', 'Gautam Navlakha', 'Sharad Pawar', '#KaatrinMozhi', '#NEUGOA', 'jean-claude arnault', '#ShortcutOctober', '#TheVillain', '#RadhaKrishn', 'Maury Obstfeld', '#DipakMisra', '#Andaman', '#PChidambaram'}\n"
     ]
    }
   ],
   "source": [
    "print(( '='*10,'intersection of world and in'))\n",
    "print((trends_set['world'].intersection(trends_set['in'])))\n",
    "\n",
    "print(('='*10,'intersection of in and kol'))\n",
    "print((trends_set['kol'].intersection(trends_set['in'])))"
   ]
  },
  {
   "cell_type": "markdown",
   "metadata": {},
   "source": [
    "## 5. Collecting search results"
   ]
  },
  {
   "cell_type": "markdown",
   "metadata": {},
   "source": [
    "Setting the variable `q` to a trending topic, \n",
    "or anything else for that matter. The example query below\n",
    "was a trending topic when this content was being developed\n",
    "and is used throughout the remainder of this chapter"
   ]
  },
  {
   "cell_type": "code",
   "execution_count": 15,
   "metadata": {},
   "outputs": [],
   "source": [
    "q = '#INDvWI' \n",
    "\n",
    "number = 100\n",
    "\n",
    "# See https://dev.twitter.com/docs/api/1.1/get/search/tweets\n",
    "\n",
    "search_results = twitter_api.search.tweets(q=q, count=number)\n",
    "\n",
    "statuses = search_results['statuses']"
   ]
  },
  {
   "cell_type": "code",
   "execution_count": 16,
   "metadata": {},
   "outputs": [
    {
     "data": {
      "text/plain": [
       "100"
      ]
     },
     "execution_count": 16,
     "metadata": {},
     "output_type": "execute_result"
    }
   ],
   "source": [
    "len(statuses)\n",
    "# print(statuses)"
   ]
  },
  {
   "cell_type": "markdown",
   "metadata": {},
   "source": [
    "Twitter often returns duplicate results, we just filtering them out checking for duplicate texts:"
   ]
  },
  {
   "cell_type": "code",
   "execution_count": 17,
   "metadata": {},
   "outputs": [],
   "source": [
    "all_text = []\n",
    "filtered_statuses = []\n",
    "for s in statuses:\n",
    "    if not s[\"text\"] in all_text:\n",
    "        filtered_statuses.append(s)\n",
    "        all_text.append(s[\"text\"])\n",
    "statuses = filtered_statuses     "
   ]
  },
  {
   "cell_type": "code",
   "execution_count": 18,
   "metadata": {},
   "outputs": [
    {
     "data": {
      "text/plain": [
       "71"
      ]
     },
     "execution_count": 18,
     "metadata": {},
     "output_type": "execute_result"
    }
   ],
   "source": [
    "len(statuses)"
   ]
  },
  {
   "cell_type": "code",
   "execution_count": 19,
   "metadata": {},
   "outputs": [
    {
     "data": {
      "text/plain": [
       "['can someone enlighten me what is the credentials of MSK prasad to hold the chairman of selector post? He has got 23… https://t.co/nHPtc2Y66B',\n",
       " 'Karun Nair should have given chance to play in test and ODIs. We know how many chances are given to Raina &amp; Rohit.… https://t.co/wFENkRRBAA',\n",
       " 'RT @monicas004: I personally spoke to Karun soon after the selection of the Test Team against WI and also told the ways to make a comeback,…',\n",
       " 'RT @monicas004: I personally spoke to Karun soon after the selection of the Test Team against WI and also told the ways to make a comeback,…',\n",
       " 'RT @urvildesai999: Great to see a new talent in squad vs Wi series 🔥🤞🏻\\n#Bcci @BCCI #INDvWI',\n",
       " \"RT @IManishh10: If selectors want Rohit Sharma to score runs in red ball format to earn recall, then why didn't they selected him in A Seri…\",\n",
       " \"RT @StarSportsIndia: Menacing with the ball 🔥\\nExceptional with the bat 💪\\n\\n@ashwinravi99 loves playing against West Indies, doesn't he? \\U0001f9d0 #I…\",\n",
       " 'RT @yadavabneeshsp: #काम_बोलता_है\\nअखिलेश जी द्वारा बनाये गये लखनऊ में\\nनवनिर्मित शानदार अंतराष्ट्रीय #क्रिकेट_स्टेडियम में 6 नवंबरको  #INDvW…',\n",
       " 'RT @indiatvnews: #INDvWI | Feels good when your captain backs you: Rishabh Pant on playing under Virat Kohli\\nhttps://t.co/VIH5qsrIGK',\n",
       " 'RT @baliSRKian: Now that @BCCI is under #RTI, please tell me why the hell is Karun Nair not getting a chance to prove himself?\\n#BCCI #SackR…',\n",
       " \"RT @SirJadeja_Real: This Guy MSK Prasad Is Ruining Karun Nair's Career. RT If You Agree. 🙏 #INDvWI #KarunNair #JusticeForKarunNair https://…\",\n",
       " 'RT @BORN4WIN: Which cities jointly won the “#BestHeritageCity” in National Tourism Awards?\\n- #Ahmedabad and #Mandu\\n\\nThe 5th #WorldInternetC…',\n",
       " 'RT @FirstCric: Former SCA chief Niranjan Shah said local curators are capable enough to prepare a good wicket\\n\\n#INDvWI\\n\\nhttps://t.co/MWqnQZ…',\n",
       " 'RT @Viratkohli2456: And he wants to be the captain of India \\n#viratkohli #RohitSharma #TeamIndia #IndvWI #Cricket https://t.co/SoGfEDN20V',\n",
       " 'RT @cricbuzz: #RanjiTrophy2017 - 1160 runs\\n\\n#VijayHazare2017 -723 runs\\n\\nTwin tons in England for India A\\n\\nDouble ton vs SA A\\n\\nCentury and a…',\n",
       " 'Team management must straight way open with @mayankcricket &amp; @PrithviShaw keeping in mind #Aus series. Play… https://t.co/wX5fLopLIb',\n",
       " \"RT @BeinGasH18: Pic 1 : When you just won Asia Cup\\n\\nPic 2 : Still not a part of Test squad against 'WI'\\n\\n#INDvWI https://t.co/rvpsijefpC\",\n",
       " 'RT @RCBTweets: This was a long time coming! After bagging 40 odd wickets in his previous two series playing for 🇮🇳 A, Mohammed Siraj has ea…',\n",
       " 'RT @itsSid45: Virat kohli ko team selection hi nhi aata h captaincy barme mein toh chod hi do \\n\\n#INDvWI https://t.co/mYfhA9RwWv',\n",
       " '@imVkohli have an ability to Score a 💯 in T20?!\\n@ImRo45 done 3⃣ times.\\n\\n@imVkohli have an ability to Score a Double… https://t.co/SNjNYXFXQf',\n",
       " 'RT @prakathiram: BURN YOYR ASS HATTERS (ROSHIT DUCKMAN @ImRo45 ) and his gawar fans shitians \\nYour favourite duckman cannot achieve this ev…',\n",
       " 'RT @Super_Cricbuzz: Both Virat Kohli and Rohit Sharma share the same captaincy record in their first eight ODIs as skipper.\\nRt: Kohli  \\n&amp;…',\n",
       " 'India vs West Indies ....#sport #AsiaCup2018 #INDVSWI #CricketMeriJaan #INDvWI #WIvIND #FantasyCricket… https://t.co/2CY4ZiSzxc',\n",
       " 'Both Virat Kohli and Rohit Sharma share the same captaincy record in their first eight ODIs as skipper.\\nRt: Kohli… https://t.co/KivCa6Tdqu',\n",
       " 'RT @yadavabneeshsp: #काम_बोलता_है\\nअखिलेश जी द्वारा बनाये गये लखनऊ में\\nनवनिर्मित शानदार अंतराष्ट्रीय #क्रिकेट_स्टेडियम में 6 नवंबरको  #INDvW…',\n",
       " 'RT @monicas004: I personally spoke to Karun soon after the selection of the Test Team against WI and also told the ways to make a comeback,…',\n",
       " \"RT @SirIshantSharma: Just saw the Indian Squad for West Indies and I didn't find my name. Can someone please tell me I'm dropped or rested?…\",\n",
       " 'RT @yadavabneeshsp: #काम_बोलता_है\\nअखिलेश जी द्वारा बनाये गये लखनऊ में\\nनवनिर्मित शानदार अंतराष्ट्रीय #क्रिकेट_स्टेडियम में 6 नवंबरको  #INDvW…',\n",
       " 'RT @yadavabneeshsp: #काम_बोलता_है\\nअखिलेश जी द्वारा बनाये गये लखनऊ में\\nनवनिर्मित शानदार अंतराष्ट्रीय #क्रिकेट_स्टेडियम में 6 नवंबरको  #INDvW…',\n",
       " 'RT @indiatvnews: #INDvWI | Feels good when your captain backs you: Rishabh Pant on playing under Virat Kohli\\nhttps://t.co/VIH5qsrIGK',\n",
       " '\"It will be a good test for us. We have to just focus on the two Test matches,\" Jaseholder98 wants to focus on play… https://t.co/CVYFJOtiof',\n",
       " '#ZIMvSA\\n#PAKvAUS\\n#ENGvSL\\n#INDvWI\\n#Live Updates\\nEnjoy For\\n+\\nFOLLOW\\nGEOSuper007\\nSend 40404\\n\\nWaSeeM BaJeeR',\n",
       " 'Shikhar Dhawan Dropped For The West Indies Tests   \\n@SDhawan25 @BCCI @IndianCricketTm #INDvWI #Cricket #sportsnews \\nhttps://t.co/3cac1v7u1N',\n",
       " '#ZIMvSA\\n#PAKvAUS\\n#ENGvSL\\n#INDvWI\\n#Live Updates\\nEnjoy For\\n+\\nFOLLOW\\n@GEOSuper007\\nSend 40404\\n\\nWaSeeM BaJeeR',\n",
       " 'RT @monicas004: I personally spoke to Karun soon after the selection of the Test Team against WI and also told the ways to make a comeback,…',\n",
       " 'RT @FirstCric: While this may sound harsh, it is the current team combination leaves no room for him. And Rohit Sharma himself has done him…',\n",
       " 'RT @FirstCric: While this may sound harsh, it is the current team combination leaves no room for him. And Rohit Sharma himself has done him…',\n",
       " \"RT @FirstCric: Rohit Sharma might not have made an impact in Tests the way he has in the shorter formats, but that doesn't mean a player of…\",\n",
       " 'RT @monicas004: I personally spoke to Karun soon after the selection of the Test Team against WI and also told the ways to make a comeback,…',\n",
       " 'RT @rs_social15: Can he be the replacement of Hardik Pandya ? \\n\\nSubodh Bhati Fast Bowling All Rounder of Delhi Team is showing magic from b…',\n",
       " 'RT @monicas004: I personally spoke to Karun soon after the selection of the Test Team against WI and also told the ways to make a comeback,…',\n",
       " 'RT @nishantsahai1: #Navratri special #dress are available in my store on Wooplr, do check them out...\\nOrder now\\n5 Days Return Policy\\n\\nVisit…',\n",
       " '#Navratri special #dress are available in my store on Wooplr, do check them out...\\nOrder now\\n5 Days Return Policy… https://t.co/XVMVijzkD6',\n",
       " '\"It will be a good test for us. We have to just focus on the two Test matches,\" @Jaseholder98 wants to focus on pla… https://t.co/HOaI6fpKy2',\n",
       " 'I personally spoke to Karun soon after the selection of the Test Team against WI and also told the ways to make a c… https://t.co/P7beXPjlSa',\n",
       " 'RT @news7tamil: #BIGNEWS\\n\\nமேற்கிந்திய தீவுகள் அணிக்கு எதிரான டெஸ்ட் தொடரில், ரோஹித் சர்மா சேர்க்கப்படாததற்கு சுழற்பந்து வீச்சாளர் ஹர்பஜன்சி…',\n",
       " 'Last time WI played Test series in India: Last Test series for Sachin Last Test series at home for MSDhoni Debut Te… https://t.co/mDa0MWMyvx',\n",
       " 'Last time WI played Test series in India: Last Test series for Sachin Last Test series at home for MSDhoni Debut Te… https://t.co/ntyLCigl4A',\n",
       " 'Last time WI played Test series in India: Last Test series for Sachin Last Test series at home for MSDhoni Debut Te… https://t.co/Sys1yiwNXK',\n",
       " 'RT @CricketopiaCom: #Memories - Last time when West Indies played a Test in India\\n\\n#YouRemember #INDvWI #SachinTendulkar #Tendulkar https:/…',\n",
       " 'RT @ViratFC18: King Kohli is back 😇❤\\n#ViratKohli #INDvWI https://t.co/nWmHj4FGkm',\n",
       " 'King Kohli is back 😇❤\\n#ViratKohli #INDvWI https://t.co/guFen3WeRX',\n",
       " 'King Kohli is back 😇❤\\n#ViratKohli #INDvWI https://t.co/nWmHj4FGkm',\n",
       " 'King Kohli is back 😇❤\\n#ViratKohli #INDvWI https://t.co/6IN9ela6Ah',\n",
       " \"RT @StarSportsIndia: Whites, the red cherry, three slips and a gully - who wouldn't fall in love with the five-day format? 😍\\n \\nThe world's…\",\n",
       " \"RT @StarSportsIndia: Whites, the red cherry, three slips and a gully - who wouldn't fall in love with the five-day format? 😍\\n \\nThe world's…\",\n",
       " \"RT @StarSportsIndia: Menacing with the ball 🔥\\nExceptional with the bat 💪\\n\\n@ashwinravi99 loves playing against West Indies, doesn't he? \\U0001f9d0 #I…\",\n",
       " 'RT @CricketopiaCom: #Memories - Last time when West Indies played a Test in India\\n\\n#YouRemember #INDvWI #SachinTendulkar #Tendulkar https:/…',\n",
       " 'Pujara replies Gujju style! @cheteshwar1 @ashwinravi99 #INDvWI\\nhttps://t.co/HWpNzk1DPI',\n",
       " \"RT @SirJadeja_Real: This Guy MSK Prasad Is Ruining Karun Nair's Career. RT If You Agree. 🙏 #INDvWI #KarunNair #JusticeForKarunNair https://…\",\n",
       " 'RT @yadavabneeshsp: #काम_बोलता_है\\nअखिलेश जी द्वारा बनाये गये लखनऊ में\\nनवनिर्मित शानदार अंतराष्ट्रीय #क्रिकेट_स्टेडियम में 6 नवंबरको  #INDvW…',\n",
       " 'RT @indiatvnews: #INDvWI | Feels good when your captain backs you: Rishabh Pant on playing under Virat Kohli\\nhttps://t.co/VIH5qsrIGK',\n",
       " 'My fav Dada got surprised as Rohit hitman not selected for #INDvWI test, I want to listen more about how he keep be… https://t.co/DFhrkHPy7B',\n",
       " 'RT @CricketopiaCom: #Memories - Last time when West Indies played a Test in India\\n\\n#YouRemember #INDvWI #SachinTendulkar #Tendulkar https:/…',\n",
       " 'RT @cricbuzz: #RanjiTrophy2017 - 1160 runs\\n\\n#VijayHazare2017 -723 runs\\n\\nTwin tons in England for India A\\n\\nDouble ton vs SA A\\n\\nCentury and a…',\n",
       " 'RT @ViratReal: Last time WI played Test\\nseries in India:\\nLast Test series for Sachin\\nLast Test series at home for MSD\\nDebut Test series for…',\n",
       " 'Whose captaincy you like the most of current Indian cricketer ?\\n\\n#Dhoni #RohitSharma #ViratKohli #Rahane #INDvWI… https://t.co/U2WqGDOtFL',\n",
       " \"RT @riyaasrkk: Rohit Sharma 's @ICC ODI Rankings since he has become an opener:\\n\\n2013- 39th Rank\\n\\n2014- 17th Rank\\n\\n2015- 16Th Rank\\n\\n2016- 7…\",\n",
       " '@mipaltan @ICC @ImRo45 #IndvWi odi ke baad no 1 rank cnf',\n",
       " \"RT @StarSportsIndia: Once a leader, always a leader! 😇\\n \\nCan MS Dhoni's 'pep talk' inspire Mohammed Siraj to become the next big thing? #IN…\",\n",
       " 'RT @kalamani22: It’s just a day, don’t let it get in your way. Hustle! \\nHappy October &amp; 63rd Test Match week of our #ChennaiPride @ashwinra…',\n",
       " 'RT @rgis1369: Life can be cruel, and @BCCI selectors can be fool. #BringBackRohitSharma #INDvWI https://t.co/zYJB4nLI6V',\n",
       " \"RT @StarSportsIndia: Once a leader, always a leader! 😇\\n \\nCan MS Dhoni's 'pep talk' inspire Mohammed Siraj to become the next big thing? #IN…\",\n",
       " \"My fav Vajji got surprised as Rohit hitman not selected for #INDvWI test, &amp; I'm surprised after reading this tweet!… https://t.co/3X24FLrHXk\",\n",
       " 'RT @Cricketracker: Mohammed Siraj needs three more wickets to complete 100 FC wickets. The pacer has taken 97 wickets in only 20 FC games a…',\n",
       " 'RT @yadavabneeshsp: #काम_बोलता_है\\nअखिलेश जी द्वारा बनाये गये लखनऊ में\\nनवनिर्मित शानदार अंतराष्ट्रीय #क्रिकेट_स्टेडियम में 6 नवंबरको  #INDvW…',\n",
       " 'RT @indiatvnews: #INDvWI | Feels good when your captain backs you: Rishabh Pant on playing under Virat Kohli\\nhttps://t.co/VIH5qsrIGK',\n",
       " 'RT @yadavabneeshsp: #काम_बोलता_है\\nअखिलेश जी द्वारा बनाये गये लखनऊ में\\nनवनिर्मित शानदार अंतराष्ट्रीय #क्रिकेट_स्टेडियम में 6 नवंबरको  #INDvW…',\n",
       " 'RT @imHardik_fc: Fans Love 😍❤\\n#HardikPandya #INDvWI https://t.co/F6kbMVrdDo',\n",
       " 'RT @indiatvnews: #INDvWI | Feels good when your captain backs you: Rishabh Pant on playing under Virat Kohli\\nhttps://t.co/VIH5qsrIGK',\n",
       " \"RT @FirstCric: Rohit Sharma might not have made an impact in Tests the way he has in the shorter formats, but that doesn't mean a player of…\",\n",
       " 'RT @DeccanChronicle: India vs Windies Tests: Harbhajan Singh slams selectors over Rohit Sharma omission #INDvWI #TeamIndia #RohitSharma #ha…',\n",
       " \"that's incredible stats previous few years \\noutstanding record for @mayankcricket \\nI am very happy @mayankcricket p… https://t.co/xh9Fe3dNBL\",\n",
       " \"RT @riyaasrkk: Rohit Sharma 's @ICC ODI Rankings since he has become an opener:\\n\\n2013- 39th Rank\\n\\n2014- 17th Rank\\n\\n2015- 16Th Rank\\n\\n2016- 7…\",\n",
       " \"RT @crickcrazy_: If u think u r unlucky, just look at Karun Nair. Its unfair &amp; harsh on him that he didn't get the chances he deserved! And…\",\n",
       " 'Life can be cruel, and @BCCI selectors can be fool. #BringBackRohitSharma #INDvWI https://t.co/zYJB4nLI6V',\n",
       " 'RT @CricketopiaCom: #Memories - Last time when West Indies played a Test in India\\n\\n#YouRemember #INDvWI #SachinTendulkar #Tendulkar https:/…',\n",
       " 'Mohammed Siraj needs three more wickets to complete 100 FC wickets. The pacer has taken 97 wickets in only 20 FC ga… https://t.co/sV2985fr8p',\n",
       " 'RT @Cricketracker: Mohammed Siraj needs three more wickets to complete 100 FC wickets. The pacer has taken 97 wickets in only 20 FC games a…',\n",
       " '#INDvWI \\n#Cricket \\n#BCCI \\n@harbhajan_singh \\n@msdhoni @therealkapildev\\n@imVkohli @virendersehwag\\n@ImRo45 @sachin_rt… https://t.co/Lq5GK5HiFU',\n",
       " 'Mohammed Siraj needs three more wickets to complete 100 FC wickets. The pacer has taken 97 wickets in only 20 FC ga… https://t.co/HMBj2Ssk1L',\n",
       " 'RT @Mr_360Abd: Pic 1 : Batting record of Selector Panel Head\\n\\nPic 2 : Player who dropped without getting enough opportunities\\n\\n#karunnair #…',\n",
       " 'RT @IExpressSports: #INDvWI\\n\\nWith a month to go for tour to Australia, Indian team management has asked for bouncy wickets for the two Test…',\n",
       " \"RT @FirstCric: Rohit Sharma might not have made an impact in Tests the way he has in the shorter formats, but that doesn't mean a player of…\",\n",
       " '#RT @im_dhoni: Last time WI played Test series in India: Last Test series for Sachin Last Test series at home for M… https://t.co/jJqrZEyfq8',\n",
       " \"RT @riyaasrkk: Rohit Sharma 's @ICC ODI Rankings since he has become an opener:\\n\\n2013- 39th Rank\\n\\n2014- 17th Rank\\n\\n2015- 16Th Rank\\n\\n2016- 7…\",\n",
       " 'Last time WI played Test series in India: Last Test series for Sachin Last Test series at home for MSD Debut Test series for Rohit #INDvWI',\n",
       " 'Mohammed Siraj needs three more wickets to complete 100 FC wickets. The pacer has taken 97 wickets in only 20 FC ga… https://t.co/dhnOyQJNxk',\n",
       " 'Mohammed Siraj needs three more wickets to complete 100 FC wickets. The pacer has taken 97 wickets in only 20 FC ga… https://t.co/jvGtTvxx5x',\n",
       " 'Mohammed Siraj needs three more wickets to complete 100 FC wickets. The pacer has taken 97 wickets in only 20 FC ga… https://t.co/lOFcKbtFFL']"
      ]
     },
     "execution_count": 19,
     "metadata": {},
     "output_type": "execute_result"
    }
   ],
   "source": [
    "[s['text'] for s in search_results['statuses']]"
   ]
  },
  {
   "cell_type": "code",
   "execution_count": 20,
   "metadata": {
    "scrolled": true
   },
   "outputs": [
    {
     "name": "stdout",
     "output_type": "stream",
     "text": [
      "{\n",
      " \"created_at\": \"Mon Oct 01 17:11:38 +0000 2018\",\n",
      " \"id\": 1046809877736304641,\n",
      " \"id_str\": \"1046809877736304641\",\n",
      " \"text\": \"can someone enlighten me what is the credentials of MSK prasad to hold the chairman of selector post? He has got 23\\u2026 https://t.co/nHPtc2Y66B\",\n",
      " \"truncated\": true,\n",
      " \"entities\": {\n",
      "  \"hashtags\": [],\n",
      "  \"symbols\": [],\n",
      "  \"user_mentions\": [],\n",
      "  \"urls\": [\n",
      "   {\n",
      "    \"url\": \"https://t.co/nHPtc2Y66B\",\n",
      "    \"expanded_url\": \"https://twitter.com/i/web/status/1046809877736304641\",\n",
      "    \"display_url\": \"twitter.com/i/web/status/1\\u2026\",\n",
      "    \"indices\": [\n",
      "     117,\n",
      "     140\n",
      "    ]\n",
      "   }\n",
      "  ]\n",
      " },\n",
      " \"metadata\": {\n",
      "  \"iso_language_code\": \"en\",\n",
      "  \"result_type\": \"recent\"\n",
      " },\n",
      " \"source\": \"<a href=\\\"http://twitter.com/download/iphone\\\" rel=\\\"nofollow\\\">Twitter for iPhone</a>\",\n",
      " \"in_reply_to_status_id\": null,\n",
      " \"in_reply_to_status_id_str\": null,\n",
      " \"in_reply_to_user_id\": null,\n",
      " \"in_reply_to_user_id_str\": null,\n",
      " \"in_reply_to_screen_name\": null,\n",
      " \"user\": {\n",
      "  \"id\": 164939790,\n",
      "  \"id_str\": \"164939790\",\n",
      "  \"name\": \"Tejas Joshi\",\n",
      "  \"screen_name\": \"tejas_h_joshi\",\n",
      "  \"location\": \"Mumbai, India.\",\n",
      "  \"description\": \"Life revolves around sports(cricket).....\",\n",
      "  \"url\": null,\n",
      "  \"entities\": {\n",
      "   \"description\": {\n",
      "    \"urls\": []\n",
      "   }\n",
      "  },\n",
      "  \"protected\": false,\n",
      "  \"followers_count\": 209,\n",
      "  \"friends_count\": 89,\n",
      "  \"listed_count\": 5,\n",
      "  \"created_at\": \"Sat Jul 10 04:18:00 +0000 2010\",\n",
      "  \"favourites_count\": 3900,\n",
      "  \"utc_offset\": null,\n",
      "  \"time_zone\": null,\n",
      "  \"geo_enabled\": true,\n",
      "  \"verified\": false,\n",
      "  \"statuses_count\": 6683,\n",
      "  \"lang\": \"en\",\n",
      "  \"contributors_enabled\": false,\n",
      "  \"is_translator\": false,\n",
      "  \"is_translation_enabled\": false,\n",
      "  \"profile_background_color\": \"C0DEED\",\n",
      "  \"profile_background_image_url\": \"http://abs.twimg.com/images/themes/theme1/bg.png\",\n",
      "  \"profile_background_image_url_https\": \"https://abs.twimg.com/images/themes/theme1/bg.png\",\n",
      "  \"profile_background_tile\": false,\n",
      "  \"profile_image_url\": \"http://pbs.twimg.com/profile_images/1037678990234923014/Q_NFjf_k_normal.jpg\",\n",
      "  \"profile_image_url_https\": \"https://pbs.twimg.com/profile_images/1037678990234923014/Q_NFjf_k_normal.jpg\",\n",
      "  \"profile_banner_url\": \"https://pbs.twimg.com/profile_banners/164939790/1376582101\",\n",
      "  \"profile_link_color\": \"1DA1F2\",\n",
      "  \"profile_sidebar_border_color\": \"C0DEED\",\n",
      "  \"profile_sidebar_fill_color\": \"DDEEF6\",\n",
      "  \"profile_text_color\": \"333333\",\n",
      "  \"profile_use_background_image\": true,\n",
      "  \"has_extended_profile\": true,\n",
      "  \"default_profile\": true,\n",
      "  \"default_profile_image\": false,\n",
      "  \"following\": false,\n",
      "  \"follow_request_sent\": false,\n",
      "  \"notifications\": false,\n",
      "  \"translator_type\": \"none\"\n",
      " },\n",
      " \"geo\": null,\n",
      " \"coordinates\": null,\n",
      " \"place\": null,\n",
      " \"contributors\": null,\n",
      " \"is_quote_status\": false,\n",
      " \"retweet_count\": 0,\n",
      " \"favorite_count\": 0,\n",
      " \"favorited\": false,\n",
      " \"retweeted\": false,\n",
      " \"lang\": \"en\"\n",
      "}\n"
     ]
    }
   ],
   "source": [
    "# Show one sample search result by slicing the list\n",
    "print(json.dumps(statuses[0], indent=1))"
   ]
  },
  {
   "cell_type": "code",
   "execution_count": 21,
   "metadata": {},
   "outputs": [
    {
     "name": "stdout",
     "output_type": "stream",
     "text": [
      "0\n",
      "False\n"
     ]
    }
   ],
   "source": [
    "t = statuses[0]\n",
    "\n",
    "# Exploring the variable t to get familiarized with the data structure\n",
    "print(t['retweet_count'])\n",
    "print(t['retweeted'])\n"
   ]
  },
  {
   "cell_type": "markdown",
   "metadata": {},
   "source": [
    "## 6. Extracting text, screen names, and hashtags from tweets"
   ]
  },
  {
   "cell_type": "code",
   "execution_count": 22,
   "metadata": {},
   "outputs": [],
   "source": [
    "status_texts = [ status['text'] for status in statuses ]\n",
    "\n",
    "screen_names = [ user_mention['screen_name'] \n",
    "                 for status in statuses\n",
    "                     for user_mention in status['entities']['user_mentions'] ]\n",
    "\n",
    "hashtags = [ hashtag['text'] \n",
    "             for status in statuses\n",
    "                 for hashtag in status['entities']['hashtags'] ]\n",
    "\n",
    "# Compute a collection of all words from all tweets\n",
    "words = [ w \n",
    "          for t in status_texts \n",
    "              for w in t.split() ]"
   ]
  },
  {
   "cell_type": "code",
   "execution_count": 23,
   "metadata": {},
   "outputs": [
    {
     "name": "stdout",
     "output_type": "stream",
     "text": [
      "[\n",
      " \"can someone enlighten me what is the credentials of MSK prasad to hold the chairman of selector post? He has got 23\\u2026 https://t.co/nHPtc2Y66B\",\n",
      " \"Karun Nair should have given chance to play in test and ODIs. We know how many chances are given to Raina &amp; Rohit.\\u2026 https://t.co/wFENkRRBAA\",\n",
      " \"RT @monicas004: I personally spoke to Karun soon after the selection of the Test Team against WI and also told the ways to make a comeback,\\u2026\",\n",
      " \"RT @urvildesai999: Great to see a new talent in squad vs Wi series \\ud83d\\udd25\\ud83e\\udd1e\\ud83c\\udffb\\n#Bcci @BCCI #INDvWI\",\n",
      " \"RT @IManishh10: If selectors want Rohit Sharma to score runs in red ball format to earn recall, then why didn't they selected him in A Seri\\u2026\"\n",
      "]\n",
      "[\n",
      " \"monicas004\",\n",
      " \"urvildesai999\",\n",
      " \"BCCI\",\n",
      " \"IManishh10\",\n",
      " \"StarSportsIndia\"\n",
      "]\n",
      "[\n",
      " \"Bcci\",\n",
      " \"INDvWI\",\n",
      " \"\\u0915\\u093e\\u092e_\\u092c\\u094b\\u0932\\u0924\\u093e_\\u0939\\u0948\",\n",
      " \"\\u0915\\u094d\\u0930\\u093f\\u0915\\u0947\\u091f_\\u0938\\u094d\\u091f\\u0947\\u0921\\u093f\\u092f\\u092e\",\n",
      " \"INDvWI\"\n",
      "]\n",
      "[\n",
      " \"can\",\n",
      " \"someone\",\n",
      " \"enlighten\",\n",
      " \"me\",\n",
      " \"what\"\n",
      "]\n"
     ]
    }
   ],
   "source": [
    "# Explore the first 5 items for each...\n",
    "\n",
    "print(json.dumps(status_texts[0:5], indent=1))\n",
    "print(json.dumps(screen_names[0:5], indent=1)) \n",
    "print(json.dumps(hashtags[0:5], indent=1))\n",
    "print(json.dumps(words[0:5], indent=1))"
   ]
  },
  {
   "cell_type": "markdown",
   "metadata": {},
   "source": [
    "## 7. Creating a basic frequency distribution from the words in tweets"
   ]
  },
  {
   "cell_type": "code",
   "execution_count": 24,
   "metadata": {},
   "outputs": [
    {
     "name": "stdout",
     "output_type": "stream",
     "text": [
      "[('RT', 38), ('in', 30), ('to', 29), ('the', 28), ('Test', 27), ('#INDvWI', 25), ('for', 25), ('series', 22), ('Last', 19), ('a', 18)]\n",
      "\n",
      "[('BCCI', 5), ('ImRo45', 4), ('StarSportsIndia', 3), ('FirstCric', 3), ('mayankcricket', 3), ('imVkohli', 3), ('ashwinravi99', 2), ('ICC', 2), ('monicas004', 1), ('urvildesai999', 1)]\n",
      "\n",
      "[('INDvWI', 26), ('ViratKohli', 5), ('RohitSharma', 3), ('Cricket', 3), ('BCCI', 2), ('TeamIndia', 2), ('ZIMvSA', 2), ('PAKvAUS', 2), ('ENGvSL', 2), ('Live', 2)]\n",
      "\n"
     ]
    }
   ],
   "source": [
    "from collections import Counter\n",
    "\n",
    "for item in [words, screen_names, hashtags]:\n",
    "    c = Counter(item)\n",
    "    print(c.most_common()[:10]) # top 10\n",
    "    print()"
   ]
  },
  {
   "cell_type": "markdown",
   "metadata": {},
   "source": [
    "## 8. Create a `prettyprint_counts` function to display tuples in a nice tabular format"
   ]
  },
  {
   "cell_type": "code",
   "execution_count": 25,
   "metadata": {},
   "outputs": [],
   "source": [
    "def prettyprint_counts(label, list_of_tuples):\n",
    "    print(\"\\n{:^20} | {:^6}\".format(label, \"Count\"))\n",
    "    print(\"*\"*40)\n",
    "    for k,v in list_of_tuples:\n",
    "        print(\"{:20} | {:>6}\".format(k,v))"
   ]
  },
  {
   "cell_type": "code",
   "execution_count": 26,
   "metadata": {},
   "outputs": [
    {
     "name": "stdout",
     "output_type": "stream",
     "text": [
      "\n",
      "        Word         | Count \n",
      "****************************************\n",
      "RT                   |     38\n",
      "in                   |     30\n",
      "to                   |     29\n",
      "the                  |     28\n",
      "Test                 |     27\n",
      "#INDvWI              |     25\n",
      "for                  |     25\n",
      "series               |     22\n",
      "Last                 |     19\n",
      "a                    |     18\n",
      "\n",
      "    Screen Name      | Count \n",
      "****************************************\n",
      "BCCI                 |      5\n",
      "ImRo45               |      4\n",
      "StarSportsIndia      |      3\n",
      "FirstCric            |      3\n",
      "mayankcricket        |      3\n",
      "imVkohli             |      3\n",
      "ashwinravi99         |      2\n",
      "ICC                  |      2\n",
      "monicas004           |      1\n",
      "urvildesai999        |      1\n",
      "\n",
      "      Hashtag        | Count \n",
      "****************************************\n",
      "INDvWI               |     26\n",
      "ViratKohli           |      5\n",
      "RohitSharma          |      3\n",
      "Cricket              |      3\n",
      "BCCI                 |      2\n",
      "TeamIndia            |      2\n",
      "ZIMvSA               |      2\n",
      "PAKvAUS              |      2\n",
      "ENGvSL               |      2\n",
      "Live                 |      2\n"
     ]
    }
   ],
   "source": [
    "for label, data in (('Word', words), \n",
    "                    ('Screen Name', screen_names), \n",
    "                    ('Hashtag', hashtags)):\n",
    "    \n",
    "    c = Counter(data)\n",
    "    prettyprint_counts(label, c.most_common()[:10])"
   ]
  },
  {
   "cell_type": "markdown",
   "metadata": {},
   "source": [
    "## 9. Finding the most popular retweets"
   ]
  },
  {
   "cell_type": "code",
   "execution_count": 27,
   "metadata": {},
   "outputs": [],
   "source": [
    "retweets = [\n",
    "            # Store out a tuple of these three values ...\n",
    "            (status['retweet_count'], \n",
    "             status['retweeted_status']['user']['screen_name'],\n",
    "             status['text'].replace(\"\\n\",\"\\\\\")) \n",
    "            \n",
    "            # ... for each status ...\n",
    "            for status in statuses \n",
    "            \n",
    "            # ... so long as the status meets this condition.\n",
    "                if 'retweeted_status' in status\n",
    "           ]"
   ]
  },
  {
   "cell_type": "markdown",
   "metadata": {},
   "source": [
    "We can build another `prettyprint` function to print entire tweets with their retweet count.\n",
    "\n",
    "We also want to split the text of the tweet in up to 3 lines, if needed."
   ]
  },
  {
   "cell_type": "code",
   "execution_count": 28,
   "metadata": {},
   "outputs": [],
   "source": [
    "row_template = \"{:^7} | {:^15} | {:50}\"\n",
    "def prettyprint_tweets(list_of_tuples):\n",
    "    print()\n",
    "    print(row_template.format(\"Count\", \"Screen Name\", \"Text\"))\n",
    "    print(\"*\"*80)\n",
    "    for count, screen_name, text in list_of_tuples:\n",
    "        print(row_template.format(count, screen_name, text[:50]))\n",
    "        if len(text) > 50:\n",
    "            print(row_template.format(\"\", \"\", text[50:100]))\n",
    "            if len(text) > 100:\n",
    "                print(row_template.format(\"\", \"\", text[100:]))"
   ]
  },
  {
   "cell_type": "code",
   "execution_count": 29,
   "metadata": {},
   "outputs": [
    {
     "name": "stdout",
     "output_type": "stream",
     "text": [
      "\n",
      " Count  |   Screen Name   | Text                                              \n",
      "********************************************************************************\n",
      "  112   | StarSportsIndia | RT @StarSportsIndia: Whites, the red cherry, three\n",
      "        |                 |  slips and a gully - who wouldn't fall in love wit\n",
      "        |                 | h the five-day format? 😍\\ \\The world's…           \n",
      "  92    |    riyaasrkk    | RT @riyaasrkk: Rohit Sharma 's @ICC ODI Rankings s\n",
      "        |                 | ince he has become an opener:\\\\2013- 39th Rank\\\\20\n",
      "        |                 | 14- 17th Rank\\\\2015- 16Th Rank\\\\2016- 7…          \n",
      "  89    | SirIshantSharma | RT @SirIshantSharma: Just saw the Indian Squad for\n",
      "        |                 |  West Indies and I didn't find my name. Can someon\n",
      "        |                 | e please tell me I'm dropped or rested?…          \n",
      "  85    | StarSportsIndia | RT @StarSportsIndia: Once a leader, always a leade\n",
      "        |                 | r! 😇\\ \\Can MS Dhoni's 'pep talk' inspire Mohammed \n",
      "        |                 | Siraj to become the next big thing? #IN…          \n",
      "  74    | CricketopiaCom  | RT @CricketopiaCom: #Memories - Last time when Wes\n",
      "        |                 | t Indies played a Test in India\\\\#YouRemember #IND\n",
      "        |                 | vWI #SachinTendulkar #Tendulkar https:/…          \n",
      "  48    | StarSportsIndia | RT @StarSportsIndia: Menacing with the ball 🔥\\Exce\n",
      "        |                 | ptional with the bat 💪\\\\@ashwinravi99 loves playin\n",
      "        |                 | g against West Indies, doesn't he? 🧐 #I…          \n",
      "  38    | yadavabneeshsp  | RT @yadavabneeshsp: #काम_बोलता_है\\अखिलेश जी द्वारा\n",
      "        |                 |  बनाये गये लखनऊ में\\नवनिर्मित शानदार अंतराष्ट्रीय \n",
      "        |                 | #क्रिकेट_स्टेडियम में 6 नवंबरको  #INDvW…          \n",
      "  25    |    cricbuzz     | RT @cricbuzz: #RanjiTrophy2017 - 1160 runs\\\\#Vijay\n",
      "        |                 | Hazare2017 -723 runs\\\\Twin tons in England for Ind\n",
      "        |                 | ia A\\\\Double ton vs SA A\\\\Century and a…          \n",
      "  23    |   BeinGasH18    | RT @BeinGasH18: Pic 1 : When you just won Asia Cup\n",
      "        |                 | \\\\Pic 2 : Still not a part of Test squad against '\n",
      "        |                 | WI'\\\\#INDvWI https://t.co/rvpsijefpC              \n",
      "  22    |    BORN4WIN     | RT @BORN4WIN: Which cities jointly won the “#BestH\n",
      "        |                 | eritageCity” in National Tourism Awards?\\- #Ahmeda\n",
      "        |                 | bad and #Mandu\\\\The 5th #WorldInternetC…          \n"
     ]
    }
   ],
   "source": [
    "# Slice off the first 5 from the sorted results and display each item in the tuple\n",
    "\n",
    "prettyprint_tweets(sorted(retweets, reverse=True)[:10])"
   ]
  }
 ],
 "metadata": {
  "anaconda-cloud": {},
  "kernelspec": {
   "display_name": "Python 3",
   "language": "python",
   "name": "python3"
  },
  "language_info": {
   "codemirror_mode": {
    "name": "ipython",
    "version": 3
   },
   "file_extension": ".py",
   "mimetype": "text/x-python",
   "name": "python",
   "nbconvert_exporter": "python",
   "pygments_lexer": "ipython3",
   "version": "3.6.5"
  }
 },
 "nbformat": 4,
 "nbformat_minor": 1
}
